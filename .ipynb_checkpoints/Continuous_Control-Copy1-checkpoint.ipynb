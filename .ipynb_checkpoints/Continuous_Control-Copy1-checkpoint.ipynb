{
 "cells": [
  {
   "cell_type": "code",
   "execution_count": 1,
   "metadata": {},
   "outputs": [],
   "source": [
    "import numpy as np\n",
    "import time\n",
    "import pickle\n",
    "import torch\n",
    "\n",
    "from unityagents import UnityEnvironment\n",
    "from collections import deque\n",
    "from ddpg_agent import Agent"
   ]
  },
  {
   "cell_type": "code",
   "execution_count": 2,
   "metadata": {},
   "outputs": [
    {
     "name": "stderr",
     "output_type": "stream",
     "text": [
      "INFO:unityagents:\n",
      "'Academy' started successfully!\n",
      "Unity Academy name: Academy\n",
      "        Number of Brains: 1\n",
      "        Number of External Brains : 1\n",
      "        Lesson number : 0\n",
      "        Reset Parameters :\n",
      "\t\tgoal_size -> 5.0\n",
      "\t\tgoal_speed -> 1.0\n",
      "Unity brain name: ReacherBrain\n",
      "        Number of Visual Observations (per agent): 0\n",
      "        Vector Observation space type: continuous\n",
      "        Vector Observation space size (per agent): 33\n",
      "        Number of stacked Vector Observation: 1\n",
      "        Vector Action space type: continuous\n",
      "        Vector Action space size (per agent): 4\n",
      "        Vector Action descriptions: , , , \n"
     ]
    }
   ],
   "source": [
    "env = UnityEnvironment(file_name='unity/Reacher_Linux_NoVis/Reacher.x86_64')\n",
    "# get the default brain\n",
    "brain_name = env.brain_names[0]\n",
    "brain = env.brains[brain_name]"
   ]
  },
  {
   "cell_type": "code",
   "execution_count": 3,
   "metadata": {
    "scrolled": false
   },
   "outputs": [
    {
     "name": "stdout",
     "output_type": "stream",
     "text": [
      "Number of agents: 20\n",
      "Size of each action: 4\n",
      "There are 20 agents. Each observes a state with length: 33\n",
      "The state for the first agent looks like: [ 0.00000000e+00 -4.00000000e+00  0.00000000e+00  1.00000000e+00\n",
      " -0.00000000e+00 -0.00000000e+00 -4.37113883e-08  0.00000000e+00\n",
      "  0.00000000e+00  0.00000000e+00  0.00000000e+00  0.00000000e+00\n",
      "  0.00000000e+00  0.00000000e+00 -1.00000000e+01  0.00000000e+00\n",
      "  1.00000000e+00 -0.00000000e+00 -0.00000000e+00 -4.37113883e-08\n",
      "  0.00000000e+00  0.00000000e+00  0.00000000e+00  0.00000000e+00\n",
      "  0.00000000e+00  0.00000000e+00  5.75471878e+00 -1.00000000e+00\n",
      "  5.55726624e+00  0.00000000e+00  1.00000000e+00  0.00000000e+00\n",
      " -1.68164849e-01]\n"
     ]
    }
   ],
   "source": [
    "# reset the environment\n",
    "env_info = env.reset(train_mode=True)[brain_name]\n",
    "\n",
    "# number of agents\n",
    "num_agents = len(env_info.agents)\n",
    "print('Number of agents:', num_agents)\n",
    "\n",
    "# size of each action\n",
    "action_size = brain.vector_action_space_size\n",
    "print('Size of each action:', action_size)\n",
    "\n",
    "# examine the state space \n",
    "states = env_info.vector_observations\n",
    "state_size = states.shape[1]\n",
    "print('There are {} agents. Each observes a state with length: {}'.format(states.shape[0], state_size))\n",
    "print('The state for the first agent looks like:', states[0])"
   ]
  },
  {
   "cell_type": "code",
   "execution_count": 4,
   "metadata": {},
   "outputs": [],
   "source": [
    "def save(param, agent, score_list, avg_score_list, i_episode, current_score):\n",
    "    BATCH_SIZE = param[\"BATCH_SIZE\"]\n",
    "    LR_ACTOR = param[\"LR_ACTOR\"] / 1e-4\n",
    "    LR_CRITIC = param[\"LR_CRITIC\"] / 1e-4\n",
    "    with open('score_log/score_{}_{:.0f}_{:.0f}_{}_{:.0f}.pk'.format(BATCH_SIZE,LR_ACTOR,LR_CRITIC,i_episode, current_score), 'wb') as f:\n",
    "        pickle.dump(score_list, f)\n",
    "    with open('score_log/avg_score_{}_{:.0f}_{:.0f}_{}_{:.0f}.pk'.format(BATCH_SIZE,LR_ACTOR,LR_CRITIC,i_episode, current_score), 'wb') as f:\n",
    "        pickle.dump(score_list, f)\n",
    "    torch.save(agent.actor_local.state_dict(), 'pytorch_weight/checkpoint_actor_{}_{:.0f}_{:.0f}_{}_{:.0f}.pt'.format(BATCH_SIZE,LR_ACTOR,LR_CRITIC,i_episode, current_score))\n",
    "    torch.save(agent.critic_local.state_dict(), 'pytorch_weight/checkpoint_critic_{}_{:.0f}_{:.0f}_{}_{:.0f}.pt'.format(BATCH_SIZE,LR_ACTOR,LR_CRITIC,i_episode, current_score))"
   ]
  },
  {
   "cell_type": "code",
   "execution_count": 5,
   "metadata": {
    "scrolled": true
   },
   "outputs": [],
   "source": [
    "def ddpg(env, env_info, agent, num_agents, param, n_episodes=250, max_t=700):  \n",
    "    scores_deque = deque(maxlen=100)\n",
    "    score_list = []\n",
    "    avg_score_list = []\n",
    "    max_score = -np.Inf\n",
    "    for i_episode in range(1, n_episodes+1):\n",
    "        starting_time = time.time()\n",
    "        env_info = env.reset(train_mode=True)[brain_name]     # reset the environment    \n",
    "        states = env_info.vector_observations                  # get the current state (for each agent)\n",
    "        agent.reset()\n",
    "        scores = np.zeros(num_agents) \n",
    "        for t in range(max_t):\n",
    "            actions = agent.act(states)\n",
    "            env_info = env.step(actions)[brain_name]           # send all actions to tne environment\n",
    "            next_states = env_info.vector_observations         # get next state (for each agent)\n",
    "            rewards = env_info.rewards                         # get reward (for each agent)\n",
    "            dones = env_info.local_done                        # see if episode finished\n",
    "            scores += env_info.rewards                         # update the score (for each agent)\n",
    "            agent.step(states, actions, rewards, next_states, dones, t)\n",
    "            states = next_states\n",
    "            scores += rewards\n",
    "            if np.any(dones):                                  # exit loop if episode finished\n",
    "                break\n",
    "\n",
    "        proc_time = (time.time()-starting_time)/60\n",
    "\n",
    "        score = np.mean(scores)\n",
    "        scores_deque.append(score)\n",
    "        score_list.append(score)\n",
    "        avg_score_list.append(np.mean(scores_deque))\n",
    "        print('\\rEpisode {}\\tAverage Score: {:.2f} proc_time {:.2f}m'.format(i_episode, np.mean(scores_deque),proc_time), end=\"\")\n",
    "        if(i_episode % 10 == 0):\n",
    "            #save(param, agent, score_list, avg_score_list, i_episode, np.mean(scores_deque))\n",
    "            print('\\rEpisode {}\\tAverage Score: {:.2f}'.format(i_episode, np.mean(scores_deque)))   \n",
    "        if(np.mean(scores_deque) >= 30):\n",
    "            save(param, agent, score_list, avg_score_list, i_episode, np.mean(scores_deque))\n",
    "            print('\\rProblem is solved at Episode {}\\tAverage Score: {:.2f}'.format(i_episode, np.mean(scores_deque)))\n",
    "            break\n",
    "    return score_list, avg_score_list"
   ]
  },
  {
   "cell_type": "code",
   "execution_count": 6,
   "metadata": {},
   "outputs": [],
   "source": [
    "LR = 1e-4\n",
    "param = {\n",
    "    \"BUFFER_SIZE\" : int(1e6),  # replay buffer size\n",
    "    \"BATCH_SIZE\" : 128,        # minibatch size\n",
    "    \"GAMMA\" : 0.99,            # discount factor\n",
    "    \"TAU\" : 1e-3,              # for soft update of target parameters\n",
    "    \"LR_ACTOR\" : LR,         # learning rate of the actor \n",
    "    \"LR_CRITIC\" : LR,        # learning rate of the critic\n",
    "    \"WEIGHT_DECAY\" : 0.0000,   # L2 weight decay\n",
    "    \"LEARNING_REPEAT\" : 20,     # updating the actor and critic networks LEARNING_REPEAT times\n",
    "    \"LEARNING_STEP\" : 20        # at every LEARNING_STEP\n",
    "}"
   ]
  },
  {
   "cell_type": "code",
   "execution_count": null,
   "metadata": {},
   "outputs": [
    {
     "name": "stdout",
     "output_type": "stream",
     "text": [
      "Episode 10\tAverage Score: 0.18 proc_time 0.08m\n",
      "Episode 14\tAverage Score: 0.14 proc_time 0.08m"
     ]
    }
   ],
   "source": [
    "for BATCH_SIZE in [128, 256, 512]:\n",
    "    for LEARNING_REPEAT in [5, 10, 20]:\n",
    "        for i in range(-1,2):\n",
    "            param[\"BATCH_SIZE\"] = BATCH_SIZE\n",
    "            param[\"LEARNING_REPEAT\"] = LEARNING_REPEAT\n",
    "            param[\"LR_ACTOR\"] = LR+(LR*(10**i))\n",
    "            param[\"LR_CRITIC\"] = LR+(LR*(10**i))\n",
    "            agent = Agent(state_size, action_size, num_agents, param, 10)\n",
    "            ddpg(env, env_info, agent, num_agents, param)\n",
    "            del agent"
   ]
  },
  {
   "cell_type": "code",
   "execution_count": null,
   "metadata": {},
   "outputs": [],
   "source": [
    "agent.actor_local.load_state_dict(torch.load('checkpoint_actor.pth'))\n",
    "agent.critic_local.load_state_dict(torch.load('checkpoint_critic.pth'))\n",
    "\n",
    "env_info = env.reset(train_mode=False)[brain_name]     # reset the environment    \n",
    "states = env_info.vector_observations                  # get the current state (for each agent)\n",
    "scores = np.zeros(num_agents)                          # initialize the score (for each agent)\n",
    "while True:\n",
    "    actions = agent.act(states)                        # select an action (for each agent)\n",
    "    env_info = env.step(actions)[brain_name]           # send all actions to tne environment\n",
    "    next_states = env_info.vector_observations         # get next state (for each agent)\n",
    "    rewards = env_info.rewards                         # get reward (for each agent)\n",
    "    dones = env_info.local_done                        # see if episode finished\n",
    "    scores += env_info.rewards                         # update the score (for each agent)\n",
    "    states = next_states                               # roll over states to next time step\n",
    "    if np.any(dones):                                  # exit loop if episode finished\n",
    "        break\n",
    "print('Total score (averaged over agents) this episode: {}'.format(np.mean(scores)))"
   ]
  },
  {
   "cell_type": "code",
   "execution_count": 4,
   "metadata": {},
   "outputs": [],
   "source": [
    "env.close()"
   ]
  },
  {
   "cell_type": "code",
   "execution_count": null,
   "metadata": {},
   "outputs": [],
   "source": []
  },
  {
   "cell_type": "code",
   "execution_count": null,
   "metadata": {},
   "outputs": [],
   "source": []
  }
 ],
 "metadata": {
  "kernelspec": {
   "display_name": "Python 3",
   "language": "python",
   "name": "python3"
  },
  "language_info": {
   "codemirror_mode": {
    "name": "ipython",
    "version": 3
   },
   "file_extension": ".py",
   "mimetype": "text/x-python",
   "name": "python",
   "nbconvert_exporter": "python",
   "pygments_lexer": "ipython3",
   "version": "3.6.4"
  }
 },
 "nbformat": 4,
 "nbformat_minor": 2
}
